{
  "nbformat": 4,
  "nbformat_minor": 0,
  "metadata": {
    "colab": {
      "provenance": [],
      "authorship_tag": "ABX9TyNcq0xlY2jbCWpImrBI3XMl",
      "include_colab_link": true
    },
    "kernelspec": {
      "name": "python3",
      "display_name": "Python 3"
    },
    "language_info": {
      "name": "python"
    }
  },
  "cells": [
    {
      "cell_type": "markdown",
      "metadata": {
        "id": "view-in-github",
        "colab_type": "text"
      },
      "source": [
        "<a href=\"https://colab.research.google.com/github/joaomorangoni/MaterialPA/blob/main/Exercicios_Fun%C3%A7%C3%B5es.ipynb\" target=\"_parent\"><img src=\"https://colab.research.google.com/assets/colab-badge.svg\" alt=\"Open In Colab\"/></a>"
      ]
    },
    {
      "cell_type": "markdown",
      "source": [
        "# ***Lista de Exercicios: Funções***\n",
        "\n",
        "- João Pedro Morangoni\n",
        "- 1°C"
      ],
      "metadata": {
        "id": "y_qJbTNCbYeB"
      }
    },
    {
      "cell_type": "markdown",
      "source": [
        "1) Crie um uma função, que recebe 3 parâmetros e tenha um retorno em python. Ela deve\n",
        "calcular o quanto o usuário irá gastar de gasolina. Para isso o usuário deverá informar:\n",
        "- Quantos KM irá viajar\n",
        "- Quantos KM o carro consome por litro de gasolina\n",
        "- Qual o Preço da Gasolina\n",
        "Para teste de mesa: Ao Final retorne o Valor gasto. Exemplo: Irei viajar 500km, meu carro\n",
        "consome 9km por litro, a gasolina custa R$ 4,00. Irei gastar: R$ 222,22.\n",
        "O Retorno da Função seria R$ 222,22"
      ],
      "metadata": {
        "id": "IUG5vyMhb7fE"
      }
    },
    {
      "cell_type": "code",
      "source": [
        "def calcular_gasto_gasolina(km, consumo, preco):\n",
        "\n",
        "    litros = km / consumo\n",
        "\n",
        "    valor = litros * preco\n",
        "\n",
        "    return f\"Você irá gastar R${valor:.2f}\"\n",
        "\n"
      ],
      "metadata": {
        "id": "S9NZB9dafIuI"
      },
      "execution_count": 36,
      "outputs": []
    },
    {
      "cell_type": "code",
      "source": [
        "km = int(input(\"Quantos KM você irá viajar? \"))\n",
        "consumo = int(input(\"Quantos KM por litro o seu carro consome? \"))\n",
        "preco = int(input(\"Qual o preço da gasolina por litro? \"))\n",
        "\n",
        "resultado = calcular_gasto_gasolina(km, consumo, preco)\n",
        "print(resultado)"
      ],
      "metadata": {
        "colab": {
          "base_uri": "https://localhost:8080/"
        },
        "id": "PgiMm2ePrCMj",
        "outputId": "91c75c4c-a2ad-4ec5-e380-afd76d0c09a2"
      },
      "execution_count": 35,
      "outputs": [
        {
          "output_type": "stream",
          "name": "stdout",
          "text": [
            "Quantos KM você irá viajar? 500\n",
            "Quantos KM por litro o seu carro consome? 9\n",
            "Qual o preço da gasolina por litro? 4\n",
            "Você irá gastar R$222.22\n"
          ]
        }
      ]
    },
    {
      "cell_type": "markdown",
      "source": [
        "2) Crie uma função que receba como parâmetro um texto qualquer, dentro dessa função\n",
        "deverá ter um laço de repetição que percorra cada letra do texto e retorne a quantidade de\n",
        "vogais encontradas nesse texto.\n",
        "Dentro da função deverá conter:\n",
        "Uma string assim:\n",
        "vogaisstring = aeiouAEIOU\n",
        "ou uma lista assim:\n",
        "vogaislista = ['a','e', 'i', 'o', 'u', 'A', 'E', 'I', 'O', 'U']\n",
        "Para ir testando o algoritmo crie primeiro uma função que vá imprimindo aos poucos e\n",
        "somando aos poucos as vogais encontradas, assim com um texto pequeno você saberá se\n",
        "está funcionando, já que essa função poderá receber textos grandes posteriormente."
      ],
      "metadata": {
        "id": "27HCXXiJb9pL"
      }
    },
    {
      "cell_type": "code",
      "source": [
        "def vog(texto):\n",
        "  y = 0\n",
        "  vogaisstring = \"AEIOU\"\n",
        "\n",
        "  for x in texto.upper():\n",
        "   for z in vogaisstring:\n",
        "    if x == z:\n",
        "      y +=1\n",
        "\n",
        "  return f\"Esta Palavra contém {y} vogais\""
      ],
      "metadata": {
        "id": "a-3LO8zGdgJA"
      },
      "execution_count": 31,
      "outputs": []
    },
    {
      "cell_type": "code",
      "source": [
        "vog(\"aeioiouoiuoiu\")"
      ],
      "metadata": {
        "colab": {
          "base_uri": "https://localhost:8080/",
          "height": 35
        },
        "id": "dQkZozX9nUgI",
        "outputId": "f05d0b73-0e1b-4d78-b762-6d2d46fa3983"
      },
      "execution_count": 32,
      "outputs": [
        {
          "output_type": "execute_result",
          "data": {
            "text/plain": [
              "'Esta Palavra contém 13 vogais'"
            ],
            "application/vnd.google.colaboratory.intrinsic+json": {
              "type": "string"
            }
          },
          "metadata": {},
          "execution_count": 32
        }
      ]
    },
    {
      "cell_type": "markdown",
      "source": [
        "3)Lista de Pos Tagging:\n",
        " Substantivo (Noun): \"NOUN\"\n",
        " Pronome (Pronoun): \"PRON\"\n",
        " Verbo (Verb): \"VERB\"\n",
        " Adjetivo (Adjective): \"ADJ\"\n",
        " Advérbio (Adverb): \"ADV\"\n",
        " Preposição (Preposition): \"ADP\"\n",
        " Conjunção (Conjunction): \"CCONJ\" (para conjunções coordenativas) ou \"SCONJ\" (para\n",
        "conjunções subordinativas)\n",
        " Artigo (Article): \"DET\"\n",
        " Numeral (Numeral): \"NUM\"\n",
        " Interjeição (Interjection): \"INTJ\"\n",
        " Partícula (Particle): \"PART\" (para palavras que não se encaixam em outras categorias\n",
        "gramaticais)\n",
        " Pronome Possessivo (Possessive Pronoun): \"PRP$\"\n",
        " Pronome Reflexivo (Reflexive Pronoun): \"PRP\"\n",
        " Determinador (Determiner): \"DET\"\n",
        " Verbo Auxiliar (Auxiliary Verb): \"AUX\"\n",
        " Pontuação (Punctuation): \"PUNCT\"\n",
        " Espaço em Branco (Whitespace): \"SPACE\"\n",
        "Sabendo disso, agora eu quero que você crie uma função em Python que receba um texto\n",
        "como Parâmetro analise quantos artigos, preposições pronomes tem em um texto qualquer.\n",
        "Traga mais de um retorno:\n",
        " Primeiro uma lista de artigos e em seguida sua quantidade\n",
        " Depois a lista de preposições e sua quantidade\n",
        " Depois a lista de Pronomes (todo os tipos) e em seguida sua quantidade."
      ],
      "metadata": {
        "id": "eRNOkagPcDmZ"
      }
    },
    {
      "cell_type": "code",
      "source": [
        "!python -m spacy download pt_core_news_sm"
      ],
      "metadata": {
        "colab": {
          "base_uri": "https://localhost:8080/"
        },
        "id": "6szuzfxucN2Q",
        "outputId": "f48cb400-cd0e-42bd-8600-52eaef6260d5"
      },
      "execution_count": 33,
      "outputs": [
        {
          "output_type": "stream",
          "name": "stdout",
          "text": [
            "2023-11-16 14:56:32.478699: E tensorflow/compiler/xla/stream_executor/cuda/cuda_dnn.cc:9342] Unable to register cuDNN factory: Attempting to register factory for plugin cuDNN when one has already been registered\n",
            "2023-11-16 14:56:32.478771: E tensorflow/compiler/xla/stream_executor/cuda/cuda_fft.cc:609] Unable to register cuFFT factory: Attempting to register factory for plugin cuFFT when one has already been registered\n",
            "2023-11-16 14:56:32.478804: E tensorflow/compiler/xla/stream_executor/cuda/cuda_blas.cc:1518] Unable to register cuBLAS factory: Attempting to register factory for plugin cuBLAS when one has already been registered\n",
            "2023-11-16 14:56:32.489579: I tensorflow/core/platform/cpu_feature_guard.cc:182] This TensorFlow binary is optimized to use available CPU instructions in performance-critical operations.\n",
            "To enable the following instructions: AVX2 FMA, in other operations, rebuild TensorFlow with the appropriate compiler flags.\n",
            "2023-11-16 14:56:33.969768: W tensorflow/compiler/tf2tensorrt/utils/py_utils.cc:38] TF-TRT Warning: Could not find TensorRT\n",
            "Collecting pt-core-news-sm==3.6.0\n",
            "  Downloading https://github.com/explosion/spacy-models/releases/download/pt_core_news_sm-3.6.0/pt_core_news_sm-3.6.0-py3-none-any.whl (13.0 MB)\n",
            "\u001b[2K     \u001b[90m━━━━━━━━━━━━━━━━━━━━━━━━━━━━━━━━━━━━━━━━\u001b[0m \u001b[32m13.0/13.0 MB\u001b[0m \u001b[31m81.9 MB/s\u001b[0m eta \u001b[36m0:00:00\u001b[0m\n",
            "\u001b[?25hRequirement already satisfied: spacy<3.7.0,>=3.6.0 in /usr/local/lib/python3.10/dist-packages (from pt-core-news-sm==3.6.0) (3.6.1)\n",
            "Requirement already satisfied: spacy-legacy<3.1.0,>=3.0.11 in /usr/local/lib/python3.10/dist-packages (from spacy<3.7.0,>=3.6.0->pt-core-news-sm==3.6.0) (3.0.12)\n",
            "Requirement already satisfied: spacy-loggers<2.0.0,>=1.0.0 in /usr/local/lib/python3.10/dist-packages (from spacy<3.7.0,>=3.6.0->pt-core-news-sm==3.6.0) (1.0.5)\n",
            "Requirement already satisfied: murmurhash<1.1.0,>=0.28.0 in /usr/local/lib/python3.10/dist-packages (from spacy<3.7.0,>=3.6.0->pt-core-news-sm==3.6.0) (1.0.10)\n",
            "Requirement already satisfied: cymem<2.1.0,>=2.0.2 in /usr/local/lib/python3.10/dist-packages (from spacy<3.7.0,>=3.6.0->pt-core-news-sm==3.6.0) (2.0.8)\n",
            "Requirement already satisfied: preshed<3.1.0,>=3.0.2 in /usr/local/lib/python3.10/dist-packages (from spacy<3.7.0,>=3.6.0->pt-core-news-sm==3.6.0) (3.0.9)\n",
            "Requirement already satisfied: thinc<8.2.0,>=8.1.8 in /usr/local/lib/python3.10/dist-packages (from spacy<3.7.0,>=3.6.0->pt-core-news-sm==3.6.0) (8.1.12)\n",
            "Requirement already satisfied: wasabi<1.2.0,>=0.9.1 in /usr/local/lib/python3.10/dist-packages (from spacy<3.7.0,>=3.6.0->pt-core-news-sm==3.6.0) (1.1.2)\n",
            "Requirement already satisfied: srsly<3.0.0,>=2.4.3 in /usr/local/lib/python3.10/dist-packages (from spacy<3.7.0,>=3.6.0->pt-core-news-sm==3.6.0) (2.4.8)\n",
            "Requirement already satisfied: catalogue<2.1.0,>=2.0.6 in /usr/local/lib/python3.10/dist-packages (from spacy<3.7.0,>=3.6.0->pt-core-news-sm==3.6.0) (2.0.10)\n",
            "Requirement already satisfied: typer<0.10.0,>=0.3.0 in /usr/local/lib/python3.10/dist-packages (from spacy<3.7.0,>=3.6.0->pt-core-news-sm==3.6.0) (0.9.0)\n",
            "Requirement already satisfied: pathy>=0.10.0 in /usr/local/lib/python3.10/dist-packages (from spacy<3.7.0,>=3.6.0->pt-core-news-sm==3.6.0) (0.10.3)\n",
            "Requirement already satisfied: smart-open<7.0.0,>=5.2.1 in /usr/local/lib/python3.10/dist-packages (from spacy<3.7.0,>=3.6.0->pt-core-news-sm==3.6.0) (6.4.0)\n",
            "Requirement already satisfied: tqdm<5.0.0,>=4.38.0 in /usr/local/lib/python3.10/dist-packages (from spacy<3.7.0,>=3.6.0->pt-core-news-sm==3.6.0) (4.66.1)\n",
            "Requirement already satisfied: numpy>=1.15.0 in /usr/local/lib/python3.10/dist-packages (from spacy<3.7.0,>=3.6.0->pt-core-news-sm==3.6.0) (1.23.5)\n",
            "Requirement already satisfied: requests<3.0.0,>=2.13.0 in /usr/local/lib/python3.10/dist-packages (from spacy<3.7.0,>=3.6.0->pt-core-news-sm==3.6.0) (2.31.0)\n",
            "Requirement already satisfied: pydantic!=1.8,!=1.8.1,<3.0.0,>=1.7.4 in /usr/local/lib/python3.10/dist-packages (from spacy<3.7.0,>=3.6.0->pt-core-news-sm==3.6.0) (1.10.13)\n",
            "Requirement already satisfied: jinja2 in /usr/local/lib/python3.10/dist-packages (from spacy<3.7.0,>=3.6.0->pt-core-news-sm==3.6.0) (3.1.2)\n",
            "Requirement already satisfied: setuptools in /usr/local/lib/python3.10/dist-packages (from spacy<3.7.0,>=3.6.0->pt-core-news-sm==3.6.0) (67.7.2)\n",
            "Requirement already satisfied: packaging>=20.0 in /usr/local/lib/python3.10/dist-packages (from spacy<3.7.0,>=3.6.0->pt-core-news-sm==3.6.0) (23.2)\n",
            "Requirement already satisfied: langcodes<4.0.0,>=3.2.0 in /usr/local/lib/python3.10/dist-packages (from spacy<3.7.0,>=3.6.0->pt-core-news-sm==3.6.0) (3.3.0)\n",
            "Requirement already satisfied: typing-extensions>=4.2.0 in /usr/local/lib/python3.10/dist-packages (from pydantic!=1.8,!=1.8.1,<3.0.0,>=1.7.4->spacy<3.7.0,>=3.6.0->pt-core-news-sm==3.6.0) (4.5.0)\n",
            "Requirement already satisfied: charset-normalizer<4,>=2 in /usr/local/lib/python3.10/dist-packages (from requests<3.0.0,>=2.13.0->spacy<3.7.0,>=3.6.0->pt-core-news-sm==3.6.0) (3.3.2)\n",
            "Requirement already satisfied: idna<4,>=2.5 in /usr/local/lib/python3.10/dist-packages (from requests<3.0.0,>=2.13.0->spacy<3.7.0,>=3.6.0->pt-core-news-sm==3.6.0) (3.4)\n",
            "Requirement already satisfied: urllib3<3,>=1.21.1 in /usr/local/lib/python3.10/dist-packages (from requests<3.0.0,>=2.13.0->spacy<3.7.0,>=3.6.0->pt-core-news-sm==3.6.0) (2.0.7)\n",
            "Requirement already satisfied: certifi>=2017.4.17 in /usr/local/lib/python3.10/dist-packages (from requests<3.0.0,>=2.13.0->spacy<3.7.0,>=3.6.0->pt-core-news-sm==3.6.0) (2023.7.22)\n",
            "Requirement already satisfied: blis<0.8.0,>=0.7.8 in /usr/local/lib/python3.10/dist-packages (from thinc<8.2.0,>=8.1.8->spacy<3.7.0,>=3.6.0->pt-core-news-sm==3.6.0) (0.7.11)\n",
            "Requirement already satisfied: confection<1.0.0,>=0.0.1 in /usr/local/lib/python3.10/dist-packages (from thinc<8.2.0,>=8.1.8->spacy<3.7.0,>=3.6.0->pt-core-news-sm==3.6.0) (0.1.3)\n",
            "Requirement already satisfied: click<9.0.0,>=7.1.1 in /usr/local/lib/python3.10/dist-packages (from typer<0.10.0,>=0.3.0->spacy<3.7.0,>=3.6.0->pt-core-news-sm==3.6.0) (8.1.7)\n",
            "Requirement already satisfied: MarkupSafe>=2.0 in /usr/local/lib/python3.10/dist-packages (from jinja2->spacy<3.7.0,>=3.6.0->pt-core-news-sm==3.6.0) (2.1.3)\n",
            "Installing collected packages: pt-core-news-sm\n",
            "Successfully installed pt-core-news-sm-3.6.0\n",
            "\u001b[38;5;2m✔ Download and installation successful\u001b[0m\n",
            "You can now load the package via spacy.load('pt_core_news_sm')\n"
          ]
        }
      ]
    },
    {
      "cell_type": "code",
      "source": [
        "import spacy\n",
        "\n",
        "nlp = spacy.load(\"pt_core_news_sm\")"
      ],
      "metadata": {
        "id": "FLXzFx4lo_1M"
      },
      "execution_count": 34,
      "outputs": []
    },
    {
      "cell_type": "code",
      "source": [
        "def info (TEXTO):\n",
        "  art = []\n",
        "  prep = []\n",
        "  pron = []\n",
        "  artNUM = 0\n",
        "  prepNUM = 0\n",
        "  pronNUM = 0\n",
        "\n",
        "  doc = nlp(TEXTO)\n",
        "\n",
        "  for i in doc:\n",
        "    if i.pos_ == \"DET\":\n",
        "      art.append(i)\n",
        "      artNUM += 1\n",
        "\n",
        "  for i in doc:\n",
        "    if i.pos_ == \"ADP\":\n",
        "      prep.append(i)\n",
        "      prepNUM += 1\n",
        "\n",
        "  for i in doc:\n",
        "    if i.pos_ == \"PRON\":\n",
        "      pron.append(i)\n",
        "      pronNUM += 1\n",
        "\n",
        "  return art, artNUM, prep, prepNUM, pron, pronNUM"
      ],
      "metadata": {
        "id": "ZqEOwFwbq2IE"
      },
      "execution_count": 43,
      "outputs": []
    },
    {
      "cell_type": "code",
      "source": [
        "info(\"Mais que uma mão estendida, mais que um belo sorriso, mais do que a alegria de dividir, mais do que sonhar os mesmos sonhos, ou doer as mesmas dores. Muito mais do que o silêncio que fala ou da voz que cala para ouvir, é a amizade o alimento que nos sacia a alma e nos é ofertado por alguém que crê em nós.\")\n"
      ],
      "metadata": {
        "colab": {
          "base_uri": "https://localhost:8080/"
        },
        "id": "WVwCWD-qx31t",
        "outputId": "84ab381e-fec7-41ee-f8df-6420495d3bec"
      },
      "execution_count": 46,
      "outputs": [
        {
          "output_type": "execute_result",
          "data": {
            "text/plain": [
              "([uma, um, a, os, as, o, a, o, a],\n",
              " 9,\n",
              " [do, do, do, da, por, em],\n",
              " 6,\n",
              " [que, que, que, que, que, que, nos, nos, alguém, que, nós],\n",
              " 11)"
            ]
          },
          "metadata": {},
          "execution_count": 46
        }
      ]
    }
  ]
}