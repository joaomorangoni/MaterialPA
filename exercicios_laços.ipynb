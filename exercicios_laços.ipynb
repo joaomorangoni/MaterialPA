{
  "nbformat": 4,
  "nbformat_minor": 0,
  "metadata": {
    "colab": {
      "provenance": [],
      "authorship_tag": "ABX9TyMPeYX9XG4bY4L+42mopP+y",
      "include_colab_link": true
    },
    "kernelspec": {
      "name": "python3",
      "display_name": "Python 3"
    },
    "language_info": {
      "name": "python"
    }
  },
  "cells": [
    {
      "cell_type": "markdown",
      "metadata": {
        "id": "view-in-github",
        "colab_type": "text"
      },
      "source": [
        "<a href=\"https://colab.research.google.com/github/joaomorangoni/MaterialPA/blob/main/exercicios_la%C3%A7os.ipynb\" target=\"_parent\"><img src=\"https://colab.research.google.com/assets/colab-badge.svg\" alt=\"Open In Colab\"/></a>"
      ]
    },
    {
      "cell_type": "code",
      "execution_count": 5,
      "metadata": {
        "colab": {
          "base_uri": "https://localhost:8080/"
        },
        "id": "7R8qgqCUNkUv",
        "outputId": "f1b2a78b-e5d2-444e-c99b-54215880ee92"
      },
      "outputs": [
        {
          "output_type": "stream",
          "name": "stdout",
          "text": [
            "Digite o número inicial: 5\n",
            "Digite o número final: 7\n",
            "5\n",
            "6\n",
            "7\n"
          ]
        }
      ],
      "source": [
        "# 1. Faça um algoritmo que escreva na tela os números de um número inicial a um número final. Os números inicial e final devem ser informados pelo usuário; sei a quantidade\n",
        "\n",
        "\n",
        "numero_inicial = int(input(\"Digite o número inicial: \"))\n",
        "\n",
        "numero_final = int(input(\"Digite o número final: \"))\n",
        "\n",
        "if numero_final < numero_inicial:\n",
        "  print(\"O número final deve ser maior que o número inicial.\")\n",
        "else:\n",
        "  for numero in range(numero_inicial, numero_final + 1):\n",
        "        print(numero)"
      ]
    },
    {
      "cell_type": "code",
      "source": [
        "# 2.Escrever um algoritmo que imprima a tabuada de um número informado pelo usuário;\n",
        "\n",
        "# Exemplo: 4\n",
        "\n",
        "# 4X1=4\n",
        "# 4X2=8\n",
        "# 4X3=12\n",
        "# 4X4 = 16\n",
        "\n",
        "numero = int(input(\"Digite o número para a tabuada: \"))\n",
        "\n",
        "for i in range(1, 11):\n",
        "    resultado = numero * i\n",
        "    print(f\"{numero} x {i} = {resultado}\")"
      ],
      "metadata": {
        "colab": {
          "base_uri": "https://localhost:8080/"
        },
        "id": "R2yOWxgDPmD5",
        "outputId": "848ad6a7-2d5b-4e31-b356-b812f348cad6"
      },
      "execution_count": 10,
      "outputs": [
        {
          "output_type": "stream",
          "name": "stdout",
          "text": [
            "Digite o número para a tabuada: 9\n",
            "9 x 1 = 9\n",
            "9 x 2 = 18\n",
            "9 x 3 = 27\n",
            "9 x 4 = 36\n",
            "9 x 5 = 45\n",
            "9 x 6 = 54\n",
            "9 x 7 = 63\n",
            "9 x 8 = 72\n",
            "9 x 9 = 81\n",
            "9 x 10 = 90\n"
          ]
        }
      ]
    },
    {
      "cell_type": "code",
      "source": [
        "# 3.Escrever um algoritmo que gera e escreve os números ímpares entre 100 e 200;\n",
        "\n",
        "for numero in range(101, 200, 2):\n",
        "    print(numero)"
      ],
      "metadata": {
        "colab": {
          "base_uri": "https://localhost:8080/"
        },
        "id": "lKZ5TMRxQR-z",
        "outputId": "639333dd-00a8-45df-eb56-3632d71e84b3"
      },
      "execution_count": 11,
      "outputs": [
        {
          "output_type": "stream",
          "name": "stdout",
          "text": [
            "101\n",
            "103\n",
            "105\n",
            "107\n",
            "109\n",
            "111\n",
            "113\n",
            "115\n",
            "117\n",
            "119\n",
            "121\n",
            "123\n",
            "125\n",
            "127\n",
            "129\n",
            "131\n",
            "133\n",
            "135\n",
            "137\n",
            "139\n",
            "141\n",
            "143\n",
            "145\n",
            "147\n",
            "149\n",
            "151\n",
            "153\n",
            "155\n",
            "157\n",
            "159\n",
            "161\n",
            "163\n",
            "165\n",
            "167\n",
            "169\n",
            "171\n",
            "173\n",
            "175\n",
            "177\n",
            "179\n",
            "181\n",
            "183\n",
            "185\n",
            "187\n",
            "189\n",
            "191\n",
            "193\n",
            "195\n",
            "197\n",
            "199\n"
          ]
        }
      ]
    },
    {
      "cell_type": "code",
      "source": [
        "# 4. Faça um programa que solicite cod da conta(exemplo: 122345) e senha(exemplo: 1234), o programa deve verificar o usuário e senha e tentar até três vezes para receber a senha correta, caso contrario o cartão é cancelado se digitar errado 3 vezes.\n",
        "\n",
        "codigo_conta_correto = \"122345\"\n",
        "senha_correta = \"1234\"\n",
        "tentativas = 0\n",
        "122126\n",
        "while tentativas < 3:\n",
        "    codigo_conta = input(\"Digite o código da conta: \")\n",
        "    senha = input(\"Digite a senha: \")\n",
        "\n",
        "    if codigo_conta == codigo_conta_correto and senha == senha_correta:\n",
        "        print(\"Acesso concedido. Bem-vindo à sua conta.\")\n",
        "        break\n",
        "    else:\n",
        "        print(\"Código da conta ou senha incorretos. Tente novamente.\")\n",
        "        tentativas += 1\n",
        "\n",
        "if tentativas == 3:\n",
        "    print(\"Você excedeu o limite de tentativas. O cartão está cancelado.\")\n"
      ],
      "metadata": {
        "colab": {
          "base_uri": "https://localhost:8080/"
        },
        "id": "UVhkO36nRAnA",
        "outputId": "b6088d4f-c52d-4ec5-f92b-812244913e66"
      },
      "execution_count": 14,
      "outputs": [
        {
          "output_type": "stream",
          "name": "stdout",
          "text": [
            "Digite o código da conta: 72631\n",
            "Digite a senha: 38217\n",
            "Código da conta ou senha incorretos. Tente novamente.\n",
            "Digite o código da conta: 27136\n",
            "Digite a senha: 21738\n",
            "Código da conta ou senha incorretos. Tente novamente.\n",
            "Digite o código da conta: 163786\n",
            "Digite a senha: 3762\n",
            "Código da conta ou senha incorretos. Tente novamente.\n",
            "Você excedeu o limite de tentativas. O cartão está cancelado.\n"
          ]
        }
      ]
    },
    {
      "cell_type": "code",
      "source": [
        "# 5. Depois do Código anterior, caso o usuário digite o usuário e senha corretos o programa deve da a oportunidade do usuario escolher a operação a ser feita: Saque, depósito ou ver saldo,\n",
        "# caso escolha saque ==> subtraia o valor do saque do seu saldo,\n",
        "# caso escolha depósito ==> some o valor do depósito ao seu saldo,\n",
        "# caso escolha saldo ==> mostre o saldo.\n",
        "# caso escolha sair ==> sai do programa\n",
        "\n",
        "codigo_conta_correto = \"122345\"\n",
        "senha_correta = \"1234\"\n",
        "saldo = 1000.0\n",
        "tentativas = 0\n",
        "\n",
        "while tentativas < 3:\n",
        "    codigo_conta = input(\"Digite o código da conta: \")\n",
        "    senha = input(\"Digite a senha: \")\n",
        "\n",
        "    if codigo_conta == codigo_conta_correto and senha == senha_correta:\n",
        "        print(\"Acesso concedido. Bem-vindo à sua conta.\")\n",
        "\n",
        "        while True:\n",
        "            print(\"\\nEscolha a operação:\")\n",
        "            print(\"1. Saque\")\n",
        "            print(\"2. Depósito\")\n",
        "            print(\"3. Ver Saldo\")\n",
        "            print(\"4. Sair\")\n",
        "\n",
        "            escolha = input(\"Digite o número da operação desejada: \")\n",
        "\n",
        "            if escolha == \"1\":\n",
        "                valor_saque = float(input(\"Digite o valor do saque: \"))\n",
        "                if valor_saque <= saldo:\n",
        "                    saldo -= valor_saque\n",
        "                    print(f\"Saque de R${valor_saque} efetuado. Saldo restante: R${saldo}\")\n",
        "                else:\n",
        "                    print(\"Saldo insuficiente para o saque.\")\n",
        "            elif escolha == \"2\":\n",
        "                valor_deposito = float(input(\"Digite o valor do depósito: \"))\n",
        "                saldo += valor_deposito\n",
        "                print(f\"Depósito de R${valor_deposito} efetuado. Novo saldo: R${saldo}\")\n",
        "            elif escolha == \"3\":\n",
        "                print(f\"Saldo atual: R${saldo}\")\n",
        "            elif escolha == \"4\":\n",
        "                print(\"Saindo do programa. Obrigado!\")\n",
        "                break\n",
        "            else:\n",
        "                print(\"Escolha inválida. Tente novamente.\")\n",
        "    else:\n",
        "        print(\"Código da conta ou senha incorretos. Tente novamente.\")\n",
        "        tentativas += 1\n",
        "\n",
        "if tentativas == 3:\n",
        "    print(\"Você excedeu o limite de tentativas. O cartão está cancelado.\")"
      ],
      "metadata": {
        "colab": {
          "base_uri": "https://localhost:8080/"
        },
        "id": "LK8QLGJpSQRX",
        "outputId": "bbf7dd58-1e14-4c52-ef85-de18ba73cbcc"
      },
      "execution_count": 15,
      "outputs": [
        {
          "output_type": "stream",
          "name": "stdout",
          "text": [
            "Digite o código da conta: 122345\n",
            "Digite a senha: 1234\n",
            "Acesso concedido. Bem-vindo à sua conta.\n",
            "\n",
            "Escolha a operação:\n",
            "1. Saque\n",
            "2. Depósito\n",
            "3. Ver Saldo\n",
            "4. Sair\n",
            "Digite o número da operação desejada: 3\n",
            "Saldo atual: R$1000.0\n",
            "\n",
            "Escolha a operação:\n",
            "1. Saque\n",
            "2. Depósito\n",
            "3. Ver Saldo\n",
            "4. Sair\n",
            "Digite o número da operação desejada: 1\n",
            "Digite o valor do saque: 100\n",
            "Saque de R$100.0 efetuado. Saldo restante: R$900.0\n",
            "\n",
            "Escolha a operação:\n",
            "1. Saque\n",
            "2. Depósito\n",
            "3. Ver Saldo\n",
            "4. Sair\n",
            "Digite o número da operação desejada: 2\n",
            "Digite o valor do depósito: 100\n",
            "Depósito de R$100.0 efetuado. Novo saldo: R$1000.0\n",
            "\n",
            "Escolha a operação:\n",
            "1. Saque\n",
            "2. Depósito\n",
            "3. Ver Saldo\n",
            "4. Sair\n",
            "Digite o número da operação desejada: 4\n",
            "Saindo do programa. Obrigado!\n",
            "Digite o código da conta: 123\n",
            "Digite a senha: 12314\n",
            "Código da conta ou senha incorretos. Tente novamente.\n",
            "Digite o código da conta: 21321\n",
            "Digite a senha: 123\n",
            "Código da conta ou senha incorretos. Tente novamente.\n",
            "Digite o código da conta: 132\n",
            "Digite a senha: 123214\n",
            "Código da conta ou senha incorretos. Tente novamente.\n",
            "Você excedeu o limite de tentativas. O cartão está cancelado.\n"
          ]
        }
      ]
    },
    {
      "cell_type": "code",
      "source": [
        "# 6. Escreva um algoritmo que leia valores inteiros e encontre o maior e o menor deles. Termine a leitura se o usuário digitar zero (0);\n",
        "\n",
        "maximo = None\n",
        "minimo = None\n",
        "\n",
        "while True:\n",
        "    numero = int(input(\"Digite um valor inteiro (0 para encerrar): \"))\n",
        "\n",
        "    if numero == 0:\n",
        "        break\n",
        "\n",
        "    if maximo is None or numero > maximo:\n",
        "        maximo = numero\n",
        "\n",
        "    if minimo is None or numero < minimo:\n",
        "        minimo = numero\n",
        "\n",
        "if maximo is not None and minimo is not None:\n",
        "    print(f\"O maior valor digitado foi: {maximo}\")\n",
        "    print(f\"O menor valor digitado foi: {minimo}\")\n",
        "else:\n",
        "    print(\"Nenhum valor válido foi digitado.\")"
      ],
      "metadata": {
        "colab": {
          "base_uri": "https://localhost:8080/"
        },
        "id": "FKOnuCrLU-mn",
        "outputId": "70f68dfa-4e07-438d-8c82-9d028647d574"
      },
      "execution_count": 16,
      "outputs": [
        {
          "output_type": "stream",
          "name": "stdout",
          "text": [
            "Digite um valor inteiro (0 para encerrar): 5\n",
            "Digite um valor inteiro (0 para encerrar): 2\n",
            "Digite um valor inteiro (0 para encerrar): 1\n",
            "Digite um valor inteiro (0 para encerrar): 5\n",
            "Digite um valor inteiro (0 para encerrar): 0\n",
            "O maior valor digitado foi: 5\n",
            "O menor valor digitado foi: 1\n"
          ]
        }
      ]
    }
  ]
}